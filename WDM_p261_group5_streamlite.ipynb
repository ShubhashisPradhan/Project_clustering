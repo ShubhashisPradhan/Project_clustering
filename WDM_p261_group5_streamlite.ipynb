{
  "nbformat": 4,
  "nbformat_minor": 0,
  "metadata": {
    "colab": {
      "provenance": []
    },
    "kernelspec": {
      "name": "python3",
      "display_name": "Python 3"
    },
    "language_info": {
      "name": "python"
    }
  },
  "cells": [
    {
      "cell_type": "code",
      "execution_count": null,
      "metadata": {
        "colab": {
          "base_uri": "https://localhost:8080/"
        },
        "id": "5D-PtWQKSkk2",
        "outputId": "0fd18ca3-92ea-4bd0-c0bf-24091ed96f29"
      },
      "outputs": [
        {
          "output_type": "stream",
          "name": "stdout",
          "text": [
            "Overwriting shub.py\n"
          ]
        }
      ],
      "source": [
        "%%writefile shub.py\n",
        "\n",
        "import pickle\n",
        "import streamlit as st\n",
        "\n",
        "# loading the trained model\n",
        "pickle_in1 = open('Clustering_1_moreGdp_shub.pkl', 'rb')\n",
        "pickle_in2 = open('Clustering_2_lessGdp_shub.pkl', 'rb')\n",
        "classifier1 = pickle.load(pickle_in1)\n",
        "classifier2 = pickle.load(pickle_in2)\n",
        "\n",
        "@st.cache_data()\n",
        "\n",
        "# defining the function which will make the prediction using the data which the user inputs\n",
        "\n",
        "\n",
        "def prediction(Birth_rate,Co2_Emmissions,Energy_Usage,GDP,Health_Exp_percent_gdp,Health_exp_capita,\n",
        "                Infant_Mortality_Rate,Internet_Usage,Lending_Interest,Life_Expectancy_Female,\n",
        "\t              Life_Expectancy_Male,Mobile_Phone_Usage,Population_0_14,Population_15_64,\n",
        "                Population_65_plus,Population_Total,Population_Urban,Tourism_Inbound,Tourism_Outbound):\n",
        "    predictions=0\n",
        "    if(GDP > 237747470413.75003):\n",
        "      predictions=classifier1.predict([[Birth_rate,Co2_Emmissions,Energy_Usage,GDP,Health_Exp_percent_gdp,Health_exp_capita,\n",
        "                Infant_Mortality_Rate,Internet_Usage,Lending_Interest,Life_Expectancy_Female,\n",
        "\t              Life_Expectancy_Male,Mobile_Phone_Usage,Population_0_14,Population_15_64,\n",
        "                Population_65_plus,Population_Total,Population_Urban,Tourism_Inbound,Tourism_Outbound]])\n",
        "      if predictions==0:\n",
        "        pred=': this is developed a nation'\n",
        "      else:\n",
        "        pred=': this is developing country with high GDP growth we should focus more on socio economic segment and also tourism sector'\n",
        "    else:\n",
        "      predictions=classifier2.predict([[Birth_rate,Co2_Emmissions,Energy_Usage,GDP,Health_Exp_percent_gdp,Health_exp_capita,\n",
        "                Infant_Mortality_Rate,Internet_Usage,Lending_Interest,Life_Expectancy_Female,\n",
        "\t              Life_Expectancy_Male,Mobile_Phone_Usage,Population_0_14,Population_15_64,\n",
        "                Population_65_plus,Population_Total,Population_Urban,Tourism_Inbound,Tourism_Outbound]])\n",
        "      if prediction==0:\n",
        "        pred=' : this is an underdeveloped nation we should focus on Energy and Torisim sector'\n",
        "      else:\n",
        "        pred=': this is developing country with low GDP growth we should focus more on renewble resource and technology'\n",
        "    return pred\n",
        "\n",
        "# this is the main function in which we define our webpage\n",
        "def main():\n",
        "    # front end elements of the web page\n",
        "    html_temp = \"\"\"\n",
        "    <div style =\"background-color:yellow;padding:13px\">\n",
        "    <h1 style =\"color:black;text-align:center;\">Country Develpment index</h1>\n",
        "    </div>\n",
        "    \"\"\"\n",
        "\n",
        "    # display the front end aspect\n",
        "    st.markdown(html_temp, unsafe_allow_html = True)\n",
        "\n",
        "   # Co2_Emmissions\tEnergy_Usage\tGDP\tTourism_Inbound\tTourism_Outbound\n",
        "\n",
        "\n",
        "\n",
        "\n",
        "    # following lines create boxes in which user can enter data required to make prediction\n",
        "    Contry=st. text_input(\"country name\")\n",
        "    Co2_Emmissions = st.number_input(\"Co2_Emmissions\")\n",
        "    GDP = st.number_input(\"GDP of country\")\n",
        "    Energy_Usage = st.number_input(\"Energy_Usage\")\n",
        "    Tourism_Inbound = st.number_input(\"Tourism_Inbound\")\n",
        "    Tourism_Outbound = st.number_input(\"Tourism_Outbound\")\n",
        "    #Job = st.selectbox('Job',(\"unskilled\",\"skilled\", \"Management\"))\n",
        "    Birth_rate = st.number_input(\"Birth_rate\")\n",
        "    Health_Exp_percent_gdp = st.number_input(\"Health_Exp_percent_gdp\")\n",
        "    Health_exp_capita = st.number_input(\"Health_exp_capita\")\n",
        "    Infant_Mortality_Rate = st.number_input(\"Infant_Mortality_Rate\")\n",
        "    Internet_Usage = st.number_input(\"Internet_Usage\")\n",
        "    Lending_Interest = st.number_input(\"Lending_Interest\")\n",
        "    Life_Expectancy_Female = st.number_input(\"Life_Expectancy_Female\")\n",
        "    Life_Expectancy_Male = st.number_input(\"Life_Expectancy_Male\")\n",
        "    Mobile_Phone_Usage = st.number_input(\"Mobile_Phone_Usage\")\n",
        "    Population_0_14 = st.number_input(\"Population_0_14\")\n",
        "    Population_15_64 = st.number_input(\"Population_15_64\")\n",
        "    Population_65_plus = st.number_input(\"Population_65_plus\")\n",
        "    Population_Total = st.number_input(\"Population_Total\")\n",
        "    Population_Urban = st.number_input(\"Population_Urban\")\n",
        "\n",
        "\n",
        "    #Purpose = st.selectbox('Purpose',(\"consumerdurable\",\"car\", \"education\", \"personal\"))\n",
        "    result =\"\"\n",
        "\n",
        "    # when 'Predict' is clicked, make the prediction and store it\n",
        "    if st.button(\"Predict\"):\n",
        "        result = prediction(Birth_rate,Co2_Emmissions,Energy_Usage,GDP,Health_Exp_percent_gdp,Health_exp_capita,Infant_Mortality_Rate,Internet_Usage,Lending_Interest,Life_Expectancy_Female,\tLife_Expectancy_Male,Mobile_Phone_Usage,Population_0_14,Population_15_64,Population_65_plus,Population_Total,Population_Urban,Tourism_Inbound,Tourism_Outbound)\n",
        "        st.success('{}'.format(Contry + result))\n",
        "\n",
        "if __name__=='__main__':\n",
        "    main()"
      ]
    }
  ]
}